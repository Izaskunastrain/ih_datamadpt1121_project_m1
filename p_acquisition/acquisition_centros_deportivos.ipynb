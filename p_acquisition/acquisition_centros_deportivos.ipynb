{
 "cells": [
  {
   "cell_type": "code",
   "execution_count": 172,
   "id": "aa167db2",
   "metadata": {},
   "outputs": [],
   "source": [
    "# Import libraries\n",
    "import pandas as pd\n",
    "import requests\n",
    "import re"
   ]
  },
  {
   "cell_type": "code",
   "execution_count": 173,
   "id": "0ae8b1ef",
   "metadata": {},
   "outputs": [],
   "source": [
    "url = 'https://datos.madrid.es/egob/catalogo/212808-0-espacio-deporte.json'"
   ]
  },
  {
   "cell_type": "code",
   "execution_count": 174,
   "id": "471b3f0e",
   "metadata": {},
   "outputs": [
    {
     "data": {
      "text/plain": [
       "dict"
      ]
     },
     "execution_count": 174,
     "metadata": {},
     "output_type": "execute_result"
    }
   ],
   "source": [
    "#mi response al aplicar .json() ya es un diccionario\n",
    "r= requests.get(url).json()\n",
    "type (response)"
   ]
  },
  {
   "cell_type": "code",
   "execution_count": 175,
   "id": "79f24b97",
   "metadata": {},
   "outputs": [
    {
     "data": {
      "text/plain": [
       "dict_keys(['@context', '@graph'])"
      ]
     },
     "execution_count": 175,
     "metadata": {},
     "output_type": "execute_result"
    }
   ],
   "source": [
    "#la info que me interesa está dentro de la key de graph\n",
    "r.keys()"
   ]
  },
  {
   "cell_type": "code",
   "execution_count": 180,
   "id": "362b780a",
   "metadata": {},
   "outputs": [
    {
     "data": {
      "text/plain": [
       "0                        Campo de Golf del Centro Nacional de Golf\n",
       "1             Campo de Golf del Club de Golf Olivar de la Hinojosa\n",
       "2                              Campos de Fútbol Ernesto Cotorruelo\n",
       "3             Centro Comercial Dreams - Palacio Municipal de Hielo\n",
       "4      Centro de Alto Rendimiento del Consejo Superior de Deportes\n",
       "                                  ...                             \n",
       "606                                           Piscina SAGE Fitness\n",
       "607                                Pista de Patinaje Paco de Lucía\n",
       "608                  Pista de petanca Centro de Mayores La Vaguada\n",
       "609                                Polideportivo Antonio Magariños\n",
       "610                                                  WiZink Center\n",
       "Name: title, Length: 611, dtype: object"
      ]
     },
     "execution_count": 180,
     "metadata": {},
     "output_type": "execute_result"
    }
   ],
   "source": [
    "#normalizo la info con ayuda de json_normalize\n",
    "df = pd.json_normalize(r['@graph'])\n",
    "pd.set_option('display.max_colwidth', 500)\n",
    "df['title']"
   ]
  },
  {
   "cell_type": "code",
   "execution_count": 177,
   "id": "3f4f37a2",
   "metadata": {},
   "outputs": [
    {
     "data": {
      "text/html": [
       "<div>\n",
       "<style scoped>\n",
       "    .dataframe tbody tr th:only-of-type {\n",
       "        vertical-align: middle;\n",
       "    }\n",
       "\n",
       "    .dataframe tbody tr th {\n",
       "        vertical-align: top;\n",
       "    }\n",
       "\n",
       "    .dataframe thead th {\n",
       "        text-align: right;\n",
       "    }\n",
       "</style>\n",
       "<table border=\"1\" class=\"dataframe\">\n",
       "  <thead>\n",
       "    <tr style=\"text-align: right;\">\n",
       "      <th></th>\n",
       "      <th>title</th>\n",
       "      <th>address.street-address</th>\n",
       "      <th>location.latitude</th>\n",
       "      <th>location.longitude</th>\n",
       "    </tr>\n",
       "  </thead>\n",
       "  <tbody>\n",
       "    <tr>\n",
       "      <th>0</th>\n",
       "      <td>Campo de Golf del Centro Nacional de Golf</td>\n",
       "      <td>CALLE ARROYO DEL MONTE 5</td>\n",
       "      <td>40.485508</td>\n",
       "      <td>-3.735279</td>\n",
       "    </tr>\n",
       "    <tr>\n",
       "      <th>1</th>\n",
       "      <td>Campo de Golf del Club de Golf Olivar de la Hi...</td>\n",
       "      <td>CALLE VIA DE DUBLIN 12</td>\n",
       "      <td>40.465351</td>\n",
       "      <td>-3.611293</td>\n",
       "    </tr>\n",
       "    <tr>\n",
       "      <th>2</th>\n",
       "      <td>Campos de Fútbol Ernesto Cotorruelo</td>\n",
       "      <td>CALLE VIA LUSITANA 5</td>\n",
       "      <td>40.381231</td>\n",
       "      <td>-3.724179</td>\n",
       "    </tr>\n",
       "    <tr>\n",
       "      <th>3</th>\n",
       "      <td>Centro Comercial Dreams - Palacio Municipal de...</td>\n",
       "      <td>CALLE SILVANO 77</td>\n",
       "      <td>40.462913</td>\n",
       "      <td>-3.635734</td>\n",
       "    </tr>\n",
       "    <tr>\n",
       "      <th>4</th>\n",
       "      <td>Centro de Alto Rendimiento del Consejo Superio...</td>\n",
       "      <td>CALLE MARTIN FIERRO 5</td>\n",
       "      <td>40.436812</td>\n",
       "      <td>-3.731957</td>\n",
       "    </tr>\n",
       "    <tr>\n",
       "      <th>...</th>\n",
       "      <td>...</td>\n",
       "      <td>...</td>\n",
       "      <td>...</td>\n",
       "      <td>...</td>\n",
       "    </tr>\n",
       "    <tr>\n",
       "      <th>606</th>\n",
       "      <td>Piscina SAGE Fitness</td>\n",
       "      <td>CALLE ESCALONA 59</td>\n",
       "      <td>40.397182</td>\n",
       "      <td>-3.761105</td>\n",
       "    </tr>\n",
       "    <tr>\n",
       "      <th>607</th>\n",
       "      <td>Pista de Patinaje Paco de Lucía</td>\n",
       "      <td>AUDITORIO PACO DE LUCIA</td>\n",
       "      <td>40.385278</td>\n",
       "      <td>-3.764155</td>\n",
       "    </tr>\n",
       "    <tr>\n",
       "      <th>608</th>\n",
       "      <td>Pista de petanca Centro de Mayores La Vaguada</td>\n",
       "      <td>AVENIDA MONFORTE DE LEMOS 36</td>\n",
       "      <td>40.479033</td>\n",
       "      <td>-3.708264</td>\n",
       "    </tr>\n",
       "    <tr>\n",
       "      <th>609</th>\n",
       "      <td>Polideportivo Antonio Magariños</td>\n",
       "      <td>CALLE SERRANO 129</td>\n",
       "      <td>40.442522</td>\n",
       "      <td>-3.686096</td>\n",
       "    </tr>\n",
       "    <tr>\n",
       "      <th>610</th>\n",
       "      <td>WiZink Center</td>\n",
       "      <td>CALLE JORGE JUAN 99 Avenida de Felipe II, s/n</td>\n",
       "      <td>40.423284</td>\n",
       "      <td>-3.672104</td>\n",
       "    </tr>\n",
       "  </tbody>\n",
       "</table>\n",
       "<p>611 rows × 4 columns</p>\n",
       "</div>"
      ],
      "text/plain": [
       "                                                 title  \\\n",
       "0            Campo de Golf del Centro Nacional de Golf   \n",
       "1    Campo de Golf del Club de Golf Olivar de la Hi...   \n",
       "2                  Campos de Fútbol Ernesto Cotorruelo   \n",
       "3    Centro Comercial Dreams - Palacio Municipal de...   \n",
       "4    Centro de Alto Rendimiento del Consejo Superio...   \n",
       "..                                                 ...   \n",
       "606                               Piscina SAGE Fitness   \n",
       "607                    Pista de Patinaje Paco de Lucía   \n",
       "608      Pista de petanca Centro de Mayores La Vaguada   \n",
       "609                    Polideportivo Antonio Magariños   \n",
       "610                                      WiZink Center   \n",
       "\n",
       "                            address.street-address  location.latitude  \\\n",
       "0                         CALLE ARROYO DEL MONTE 5          40.485508   \n",
       "1                           CALLE VIA DE DUBLIN 12          40.465351   \n",
       "2                             CALLE VIA LUSITANA 5          40.381231   \n",
       "3                                 CALLE SILVANO 77          40.462913   \n",
       "4                            CALLE MARTIN FIERRO 5          40.436812   \n",
       "..                                             ...                ...   \n",
       "606                              CALLE ESCALONA 59          40.397182   \n",
       "607                       AUDITORIO PACO DE LUCIA           40.385278   \n",
       "608                   AVENIDA MONFORTE DE LEMOS 36          40.479033   \n",
       "609                              CALLE SERRANO 129          40.442522   \n",
       "610  CALLE JORGE JUAN 99 Avenida de Felipe II, s/n          40.423284   \n",
       "\n",
       "     location.longitude  \n",
       "0             -3.735279  \n",
       "1             -3.611293  \n",
       "2             -3.724179  \n",
       "3             -3.635734  \n",
       "4             -3.731957  \n",
       "..                  ...  \n",
       "606           -3.761105  \n",
       "607           -3.764155  \n",
       "608           -3.708264  \n",
       "609           -3.686096  \n",
       "610           -3.672104  \n",
       "\n",
       "[611 rows x 4 columns]"
      ]
     },
     "execution_count": 177,
     "metadata": {},
     "output_type": "execute_result"
    }
   ],
   "source": [
    "#Me quedo sólo con las columnas que me interesan\n",
    "df_centros_deportivos= df [['title', 'address.street-address', 'location.latitude', 'location.longitude' ]]\n",
    "df_centros_deportivos"
   ]
  },
  {
   "cell_type": "code",
   "execution_count": 178,
   "id": "fcb144bd",
   "metadata": {},
   "outputs": [
    {
     "data": {
      "text/plain": [
       "dtype('float64')"
      ]
     },
     "execution_count": 178,
     "metadata": {},
     "output_type": "execute_result"
    }
   ],
   "source": [
    "df_centros_deportivos['location.longitude'].dtypes"
   ]
  },
  {
   "cell_type": "code",
   "execution_count": null,
   "id": "efdd7107",
   "metadata": {},
   "outputs": [],
   "source": []
  }
 ],
 "metadata": {
  "kernelspec": {
   "display_name": "Python [conda env:bicimad] *",
   "language": "python",
   "name": "conda-env-bicimad-py"
  },
  "language_info": {
   "codemirror_mode": {
    "name": "ipython",
    "version": 3
   },
   "file_extension": ".py",
   "mimetype": "text/x-python",
   "name": "python",
   "nbconvert_exporter": "python",
   "pygments_lexer": "ipython3",
   "version": "3.7.11"
  }
 },
 "nbformat": 4,
 "nbformat_minor": 5
}
