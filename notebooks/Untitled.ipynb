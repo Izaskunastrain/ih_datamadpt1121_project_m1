{
 "cells": [
  {
   "cell_type": "code",
   "execution_count": 16,
   "id": "58c2cbfb",
   "metadata": {},
   "outputs": [],
   "source": [
    "import time\n",
    "import random\n",
    "import webbrowser\n",
    "\n"
   ]
  },
  {
   "cell_type": "code",
   "execution_count": 8,
   "id": "147acb3e",
   "metadata": {},
   "outputs": [],
   "source": [
    "answers = [\"De toda la vida se empiezan las cosas los lunes\",\n",
    "    \"Dios no te hizo perfecto y por eso hoy deberías hacer deporte.\",\n",
    "    \"Vamos! A ver si hay suerte y vemos un atasco\",\n",
    "    \"Mejor hoy nos vamos de tapitas madrileñas\",\n",
    "    \"Venga que así levantamos la economía!\"]\n"
   ]
  },
  {
   "cell_type": "code",
   "execution_count": 12,
   "id": "84a751b3",
   "metadata": {},
   "outputs": [
    {
     "name": "stdout",
     "output_type": "stream",
     "text": [
      "Why do you need to ask?\n"
     ]
    }
   ],
   "source": [
    "print (random.choice(answers))\n"
   ]
  },
  {
   "cell_type": "code",
   "execution_count": null,
   "id": "18be6adb",
   "metadata": {},
   "outputs": [],
   "source": [
    "link = \"https://u.bicimad.com/mapa\""
   ]
  },
  {
   "cell_type": "code",
   "execution_count": 17,
   "id": "9c998164",
   "metadata": {},
   "outputs": [
    {
     "data": {
      "text/plain": [
       "True"
      ]
     },
     "execution_count": 17,
     "metadata": {},
     "output_type": "execute_result"
    }
   ],
   "source": [
    "import webbrowser\n",
    "time.sleep(3)\n",
    "webbrowser.open(\"https://u.bicimad.com/mapa\")"
   ]
  },
  {
   "cell_type": "code",
   "execution_count": 18,
   "id": "ef39c320",
   "metadata": {},
   "outputs": [
    {
     "ename": "SyntaxError",
     "evalue": "EOL while scanning string literal (2630449524.py, line 1)",
     "output_type": "error",
     "traceback": [
      "\u001b[0;36m  File \u001b[0;32m\"/var/folders/7r/gr6209_d4gq41495xng075xw0000gn/T/ipykernel_21286/2630449524.py\"\u001b[0;36m, line \u001b[0;32m1\u001b[0m\n\u001b[0;31m    print (\"─▌█──║─║╔═║─║─╔═╗─\u001b[0m\n\u001b[0m                              ^\u001b[0m\n\u001b[0;31mSyntaxError\u001b[0m\u001b[0;31m:\u001b[0m EOL while scanning string literal\n"
     ]
    }
   ],
   "source": [
    "print (\"─▌█──║─║╔═║─║─╔═╗─\n",
    "─███─╠═╣╠═║─║─║─║─\n",
    "─▐█▐─║─║╚═╚═╚═╚═╝─\n",
    "─▐▐───────────────\n",
    "─▐▐───────────────\")"
   ]
  },
  {
   "cell_type": "code",
   "execution_count": 20,
   "id": "607b2f0d",
   "metadata": {},
   "outputs": [
    {
     "name": "stdout",
     "output_type": "stream",
     "text": [
      "ᕙ( ͡❛ ͜ʖ ͡❛)ᕗ\n"
     ]
    }
   ],
   "source": [
    "print (\"ᕙ( ͡❛ ͜ʖ ͡❛)ᕗ\")"
   ]
  },
  {
   "cell_type": "code",
   "execution_count": null,
   "id": "caa6337f",
   "metadata": {},
   "outputs": [],
   "source": []
  }
 ],
 "metadata": {
  "kernelspec": {
   "display_name": "Python [conda env:bicimad] *",
   "language": "python",
   "name": "conda-env-bicimad-py"
  },
  "language_info": {
   "codemirror_mode": {
    "name": "ipython",
    "version": 3
   },
   "file_extension": ".py",
   "mimetype": "text/x-python",
   "name": "python",
   "nbconvert_exporter": "python",
   "pygments_lexer": "ipython3",
   "version": "3.7.11"
  }
 },
 "nbformat": 4,
 "nbformat_minor": 5
}
